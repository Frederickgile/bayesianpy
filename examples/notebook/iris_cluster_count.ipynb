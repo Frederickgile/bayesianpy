{
 "cells": [
  {
   "cell_type": "markdown",
   "metadata": {},
   "source": [
    "# Automatically selecting the number of clusters in a latent variable"
   ]
  },
  {
   "cell_type": "markdown",
   "metadata": {},
   "source": [
    "This is just a quick demo to show how to automatically decide upon the number of clusters in a latent variable, where the number of clusters are unknown, using the Iris dataset.\n",
    "\n",
    "The process is iterative, building and training the model multiple times, and then querying the trained model to extract the log likelihood. There are lots of other scoring functions; regression or classification accuracy, Bayesian Information Criterion (BIC; which penalises the complexity of the model against the accuracy) among others. One thing to watch is that the log likelihood cannot be used as a measure where the number of variables in the model is being adjusted at the same time, as the score will also change (however it's perfect when only changing the number of states).\n",
    "\n",
    "It's easy to craft the iterative code, but there is a utility function in analysis.py to do it automatically and which uses cross validation."
   ]
  },
  {
   "cell_type": "code",
   "execution_count": 1,
   "metadata": {
    "collapsed": false
   },
   "outputs": [
    {
     "name": "stderr",
     "output_type": "stream",
     "text": [
      "C:\\Anaconda3\\lib\\site-packages\\sklearn\\cross_validation.py:44: DeprecationWarning: This module was deprecated in version 0.18 in favor of the model_selection module into which all the refactored classes and functions are moved. Also note that the interface of the new CV iterators are different from that of this module. This module will be removed in 0.20.\n",
      "  \"This module will be removed in 0.20.\", DeprecationWarning)\n"
     ]
    }
   ],
   "source": [
    "import pandas as pd\n",
    "import logging\n",
    "import sys\n",
    "sys.path.append(\"../../../bayesianpy\")\n",
    "import bayesianpy\n",
    "import matplotlib.pyplot as plt\n",
    "import os\n",
    "\n",
    "logger = logging.getLogger()\n",
    "\n",
    "bayesianpy.jni.attach(logger)\n",
    "\n",
    "db_folder = bayesianpy.utils.get_path_to_parent_dir('')    \n",
    "iris = pd.read_csv(os.path.join(db_folder, \"data/iris.csv\"), index_col=False)\n",
    "\n",
    "analysis = bayesianpy.analysis.LogLikelihoodAnalysis(logger)\n",
    "# create templates between with latent states from 1 -> 19\n",
    "results = analysis.analyse(iris, [bayesianpy.template.MixtureNaiveBayes(logger,\n",
    "                                  discrete=iris[['iris_class']],\n",
    "                                  continuous=iris[['sepal_length', 'petal_width', 'petal_length', 'sepal_width']],\n",
    "                                  latent_states=i) for i in range(1, 20)],\n",
    "                           use_model_names=False,\n",
    "                           names=list(range(1,20)))"
   ]
  },
  {
   "cell_type": "markdown",
   "metadata": {},
   "source": [
    "And finally plot the results:"
   ]
  },
  {
   "cell_type": "code",
   "execution_count": 2,
   "metadata": {
    "collapsed": false
   },
   "outputs": [
    {
     "data": {
      "image/png": "[encoded data removed]",
      "text/plain": [
       "<matplotlib.figure.Figure at 0x4c81a58>"
      ]
     },
     "metadata": {},
     "output_type": "display_data"
    }
   ],
   "source": [
    "%matplotlib inline\n",
    "plt.figure()\n",
    "plt.plot(results.columns.tolist(), results.mean().tolist(), 'bo')\n",
    "plt.show()"
   ]
  },
  {
   "cell_type": "markdown",
   "metadata": {},
   "source": [
    "From this, it's possible to approximately identify the optimum number of states in the latent variable (e.g. 4+ or so, favouring the lower number to reduce complexity)."
   ]
  }
 ],
 "metadata": {
  "kernelspec": {
   "display_name": "Python 3",
   "language": "python",
   "name": "python3"
  },
  "language_info": {
   "codemirror_mode": {
    "name": "ipython",
    "version": 3
   },
   "file_extension": ".py",
   "mimetype": "text/x-python",
   "name": "python",
   "nbconvert_exporter": "python",
   "pygments_lexer": "ipython3",
   "version": "3.5.1"
  }
 },
 "nbformat": 4,
 "nbformat_minor": 0
}
